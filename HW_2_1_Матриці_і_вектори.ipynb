{
  "nbformat": 4,
  "nbformat_minor": 0,
  "metadata": {
    "colab": {
      "provenance": []
    },
    "kernelspec": {
      "name": "python3",
      "display_name": "Python 3"
    },
    "language_info": {
      "name": "python"
    }
  },
  "cells": [
    {
      "cell_type": "markdown",
      "source": [
        "### Завдання 1: Створення матриць та векторів\n",
        "1. Створіть `numpy` вектор `vector` розмірністю 10 з випадковими дійсними значеннями в діапазоні від 0 до 1. Можна скористатись двома альтернативними варіантами:\n",
        "  1. Генерація випадкових чисел з модулем [`random.uniform`](https://docs.python.org/3/library/random.html).\n",
        "  2. Створення вектора з допомогою метода `numpy` [np.random.rand](https://numpy.org/doc/stable/reference/random/generated/numpy.random.rand.html)\n",
        "\n",
        "2. Створіть матрицю `matrix` типу `numpy.array` розмірності 3x3 з наступними значеннями\n",
        "\n",
        "  $$\n",
        "  matrix = \\begin{bmatrix}\n",
        "  11 & 14 & 17 \\\\\n",
        "  20 & 23 & 26 \\\\\n",
        "  29 & 32 & 35\n",
        "  \\end{bmatrix}\n",
        "  $$\n",
        "\n",
        "  будь-яким відомими Вам способом.\n",
        "\n",
        "Виведіть на екран вектор і матрицю, а також їх розміри.\n"
      ],
      "metadata": {
        "id": "efug1V4CM0lT"
      }
    },
    {
      "cell_type": "code",
      "source": [
        "import numpy as np"
      ],
      "metadata": {
        "id": "sv3geYPpyDp-"
      },
      "execution_count": 1,
      "outputs": []
    },
    {
      "cell_type": "code",
      "source": [
        "vector = np.random.rand(10)"
      ],
      "metadata": {
        "id": "jxA_lG2_VIMe"
      },
      "execution_count": 2,
      "outputs": []
    },
    {
      "cell_type": "code",
      "source": [
        "vector"
      ],
      "metadata": {
        "colab": {
          "base_uri": "https://localhost:8080/"
        },
        "id": "rOeUYpLpyIGI",
        "outputId": "5ab9366b-e72c-43f1-f28e-af1df61c0a89"
      },
      "execution_count": 3,
      "outputs": [
        {
          "output_type": "execute_result",
          "data": {
            "text/plain": [
              "array([0.471492  , 0.46029473, 0.76323197, 0.04821755, 0.02970084,\n",
              "       0.73243034, 0.57852661, 0.6058253 , 0.61557482, 0.7588365 ])"
            ]
          },
          "metadata": {},
          "execution_count": 3
        }
      ]
    },
    {
      "cell_type": "code",
      "source": [
        "matrix = np.array([[11, 14, 17], [20, 23, 26], [29, 32, 35]])"
      ],
      "metadata": {
        "id": "tMBRkwbLyhCM"
      },
      "execution_count": 4,
      "outputs": []
    },
    {
      "cell_type": "code",
      "source": [
        "matrix"
      ],
      "metadata": {
        "colab": {
          "base_uri": "https://localhost:8080/"
        },
        "id": "3YjF0ApzywaU",
        "outputId": "91ee8981-8489-428d-d8da-54599e4a751e"
      },
      "execution_count": 5,
      "outputs": [
        {
          "output_type": "execute_result",
          "data": {
            "text/plain": [
              "array([[11, 14, 17],\n",
              "       [20, 23, 26],\n",
              "       [29, 32, 35]])"
            ]
          },
          "metadata": {},
          "execution_count": 5
        }
      ]
    },
    {
      "cell_type": "markdown",
      "source": [
        "\n",
        "### Завдання 2: Операції над векторами та матрицями\n",
        "Виконайте кожну з зазначених операцій над зазначеними оʼєктами і виведіть результат на екран:\n",
        "1. Додайте до кожного значення вектора `vector` число 10 і округліть кожне значення до 2 знаків після коми без використання циклів.\n",
        "2. Помножте кожен елемент матриці з першого завдання на 2 без використання циклів.\n",
        "3. Створіть новий вектор, який містить квадрат кожного `vector` без циклів.\n"
      ],
      "metadata": {
        "id": "TSJ1P4OuOVe2"
      }
    },
    {
      "cell_type": "code",
      "source": [
        "vector_plus_10 = np.round(vector + 10, 2)\n",
        "vector_plus_10"
      ],
      "metadata": {
        "id": "nAAojtyUVJXN",
        "colab": {
          "base_uri": "https://localhost:8080/"
        },
        "outputId": "8b4494f2-a96c-4bf5-95ae-dca90eefaa29"
      },
      "execution_count": 6,
      "outputs": [
        {
          "output_type": "execute_result",
          "data": {
            "text/plain": [
              "array([10.47, 10.46, 10.76, 10.05, 10.03, 10.73, 10.58, 10.61, 10.62,\n",
              "       10.76])"
            ]
          },
          "metadata": {},
          "execution_count": 6
        }
      ]
    },
    {
      "cell_type": "code",
      "source": [
        "matrix_x_2 = np.dot(matrix, 2)\n",
        "matrix_x_2"
      ],
      "metadata": {
        "colab": {
          "base_uri": "https://localhost:8080/"
        },
        "id": "hMIrhn3l0bnA",
        "outputId": "b9835daf-6f08-4006-ffd1-78fd9249fe35"
      },
      "execution_count": 7,
      "outputs": [
        {
          "output_type": "execute_result",
          "data": {
            "text/plain": [
              "array([[22, 28, 34],\n",
              "       [40, 46, 52],\n",
              "       [58, 64, 70]])"
            ]
          },
          "metadata": {},
          "execution_count": 7
        }
      ]
    },
    {
      "cell_type": "code",
      "source": [
        "matrix * 2"
      ],
      "metadata": {
        "colab": {
          "base_uri": "https://localhost:8080/"
        },
        "id": "0UjXW-to0vGK",
        "outputId": "dacdb8d7-5287-4e21-c41d-b84e47ce0c76"
      },
      "execution_count": 8,
      "outputs": [
        {
          "output_type": "execute_result",
          "data": {
            "text/plain": [
              "array([[22, 28, 34],\n",
              "       [40, 46, 52],\n",
              "       [58, 64, 70]])"
            ]
          },
          "metadata": {},
          "execution_count": 8
        }
      ]
    },
    {
      "cell_type": "code",
      "source": [
        "vector_sqr = vector ** 2\n",
        "vector_sqr"
      ],
      "metadata": {
        "colab": {
          "base_uri": "https://localhost:8080/"
        },
        "id": "W30bCd0v00rr",
        "outputId": "3b02c60a-2d85-4ed7-c7f5-cc11006cfed1"
      },
      "execution_count": 9,
      "outputs": [
        {
          "output_type": "execute_result",
          "data": {
            "text/plain": [
              "array([0.22230471, 0.21187124, 0.58252304, 0.00232493, 0.00088214,\n",
              "       0.53645421, 0.33469304, 0.3670243 , 0.37893236, 0.57583283])"
            ]
          },
          "metadata": {},
          "execution_count": 9
        }
      ]
    },
    {
      "cell_type": "code",
      "source": [
        "np.square(vector)"
      ],
      "metadata": {
        "colab": {
          "base_uri": "https://localhost:8080/"
        },
        "id": "H4cDLZWCHbBM",
        "outputId": "d64f0a13-50c5-46d8-df15-9baecddba300"
      },
      "execution_count": 10,
      "outputs": [
        {
          "output_type": "execute_result",
          "data": {
            "text/plain": [
              "array([0.22230471, 0.21187124, 0.58252304, 0.00232493, 0.00088214,\n",
              "       0.53645421, 0.33469304, 0.3670243 , 0.37893236, 0.57583283])"
            ]
          },
          "metadata": {},
          "execution_count": 10
        }
      ]
    },
    {
      "cell_type": "markdown",
      "source": [
        "\n",
        "### Завдання 3: Множення матриць\n",
        "1. Задані дві матриці `A` і `B`розмірностями 3x2 та 2х3. Виконайте їхнє множення, щоб отримати матрицю 2x2. Виведіть результуючу матрицю `result_matrix` на екран.\n",
        "\n",
        "2. Заданий вектор `C` розмірністю 2х1. Подумайте спочатку, яку розмірність Ви отрмаєте, коли домножите `result_matrix` на вектор `C` і який результат буде. А потім виконайте множення і виведіть результат на екран.\n",
        "\n",
        "3. Задана матриця `D` розмірністю 2х2. Подумайте спочатку, яку розмірність Ви отрмаєте, коли домножите `result_matrix` на матрицю `D` і який результат буде. А потім виконайте множення і виведіть результат на екран."
      ],
      "metadata": {
        "id": "u6RvWVfhPy-k"
      }
    },
    {
      "cell_type": "code",
      "source": [
        "A = np.array(\n",
        "    [[0.18, 0.53],\n",
        "     [0.75, 0.47],\n",
        "     [0.35, 0.21]])\n",
        "\n",
        "B = np.array(\n",
        "    [[0.17, 0.58, 0.75],\n",
        "     [0.38, 0.11, 0.15]])\n",
        "\n",
        "C = np.array([[0], [1]])\n",
        "\n",
        "D = np.array([[0,1], [1,0]])\n",
        "\n",
        "display(A, B, C, D)"
      ],
      "metadata": {
        "id": "RwXfPzlbSJ44",
        "colab": {
          "base_uri": "https://localhost:8080/",
          "height": 178
        },
        "outputId": "ad7fbf77-d740-4f41-e98b-eb8331192cae"
      },
      "execution_count": 11,
      "outputs": [
        {
          "output_type": "display_data",
          "data": {
            "text/plain": [
              "array([[0.18, 0.53],\n",
              "       [0.75, 0.47],\n",
              "       [0.35, 0.21]])"
            ]
          },
          "metadata": {}
        },
        {
          "output_type": "display_data",
          "data": {
            "text/plain": [
              "array([[0.17, 0.58, 0.75],\n",
              "       [0.38, 0.11, 0.15]])"
            ]
          },
          "metadata": {}
        },
        {
          "output_type": "display_data",
          "data": {
            "text/plain": [
              "array([[0],\n",
              "       [1]])"
            ]
          },
          "metadata": {}
        },
        {
          "output_type": "display_data",
          "data": {
            "text/plain": [
              "array([[0, 1],\n",
              "       [1, 0]])"
            ]
          },
          "metadata": {}
        }
      ]
    },
    {
      "cell_type": "code",
      "source": [
        "result_matrix = np.dot(B, A)\n",
        "result_matrix"
      ],
      "metadata": {
        "id": "z7-boTbhVKkj",
        "colab": {
          "base_uri": "https://localhost:8080/"
        },
        "outputId": "8ebafd6e-490d-4048-d264-69adafdd26bd"
      },
      "execution_count": 12,
      "outputs": [
        {
          "output_type": "execute_result",
          "data": {
            "text/plain": [
              "array([[0.7281, 0.5202],\n",
              "       [0.2034, 0.2846]])"
            ]
          },
          "metadata": {},
          "execution_count": 12
        }
      ]
    },
    {
      "cell_type": "code",
      "source": [
        "np.dot(result_matrix, C)"
      ],
      "metadata": {
        "colab": {
          "base_uri": "https://localhost:8080/"
        },
        "id": "-mTptJ40IZwz",
        "outputId": "c70bff6b-b9af-4995-b00b-8b017f60ce13"
      },
      "execution_count": 13,
      "outputs": [
        {
          "output_type": "execute_result",
          "data": {
            "text/plain": [
              "array([[0.5202],\n",
              "       [0.2846]])"
            ]
          },
          "metadata": {},
          "execution_count": 13
        }
      ]
    },
    {
      "cell_type": "code",
      "source": [
        "np.dot(result_matrix, D)"
      ],
      "metadata": {
        "colab": {
          "base_uri": "https://localhost:8080/"
        },
        "id": "G0_ia8-TI0WF",
        "outputId": "68ed2f7a-5fa2-46b7-8103-2a1493d28ccb"
      },
      "execution_count": 14,
      "outputs": [
        {
          "output_type": "execute_result",
          "data": {
            "text/plain": [
              "array([[0.5202, 0.7281],\n",
              "       [0.2846, 0.2034]])"
            ]
          },
          "metadata": {},
          "execution_count": 14
        }
      ]
    },
    {
      "cell_type": "markdown",
      "source": [
        "\n",
        "### Завдання 4: Транспонування матриць\n",
        "1. Транспонуйте `result_matrix`.\n",
        "2. Зробіть транспонування вектора `vector` і виведіть форму нової структури. Чи бачите ви зміну?\n",
        "3. Використайте операцію `numpy.expand_dims` над вектором `vector` з аргументом axis=1. Запишіть отриманий результат в змінну `column_vector` і виведіть на екран. Порівняйте з `vector`.\n",
        "4. Зробіть транспонування `column_vector`, виведіть результат на екран разом з розмірностями отриманої структури.\n",
        "\n",
        "\n"
      ],
      "metadata": {
        "id": "wohp0_cxSGpl"
      }
    },
    {
      "cell_type": "code",
      "source": [
        "result_matrix"
      ],
      "metadata": {
        "id": "4hFcq1baVLii",
        "colab": {
          "base_uri": "https://localhost:8080/"
        },
        "outputId": "3786599e-8686-4375-d458-227c53ab4787"
      },
      "execution_count": 15,
      "outputs": [
        {
          "output_type": "execute_result",
          "data": {
            "text/plain": [
              "array([[0.7281, 0.5202],\n",
              "       [0.2034, 0.2846]])"
            ]
          },
          "metadata": {},
          "execution_count": 15
        }
      ]
    },
    {
      "cell_type": "code",
      "source": [
        "result_matrix_t = result_matrix.T\n",
        "result_matrix_t"
      ],
      "metadata": {
        "colab": {
          "base_uri": "https://localhost:8080/"
        },
        "id": "4n4WcX2FK9Jk",
        "outputId": "50be330c-eb50-4166-96f8-0f9d754d200e"
      },
      "execution_count": 16,
      "outputs": [
        {
          "output_type": "execute_result",
          "data": {
            "text/plain": [
              "array([[0.7281, 0.2034],\n",
              "       [0.5202, 0.2846]])"
            ]
          },
          "metadata": {},
          "execution_count": 16
        }
      ]
    },
    {
      "cell_type": "code",
      "source": [
        "vector"
      ],
      "metadata": {
        "colab": {
          "base_uri": "https://localhost:8080/"
        },
        "id": "nMP74j6jLIEA",
        "outputId": "3f8e55c2-f853-4f5f-ddeb-d67ff4afc0f6"
      },
      "execution_count": 17,
      "outputs": [
        {
          "output_type": "execute_result",
          "data": {
            "text/plain": [
              "array([0.471492  , 0.46029473, 0.76323197, 0.04821755, 0.02970084,\n",
              "       0.73243034, 0.57852661, 0.6058253 , 0.61557482, 0.7588365 ])"
            ]
          },
          "metadata": {},
          "execution_count": 17
        }
      ]
    },
    {
      "cell_type": "code",
      "source": [
        "vector.shape"
      ],
      "metadata": {
        "colab": {
          "base_uri": "https://localhost:8080/"
        },
        "id": "fIHRbM4oLWrq",
        "outputId": "137ad053-d315-4d29-843c-e47cf939cc37"
      },
      "execution_count": 18,
      "outputs": [
        {
          "output_type": "execute_result",
          "data": {
            "text/plain": [
              "(10,)"
            ]
          },
          "metadata": {},
          "execution_count": 18
        }
      ]
    },
    {
      "cell_type": "code",
      "source": [
        "vector.T"
      ],
      "metadata": {
        "colab": {
          "base_uri": "https://localhost:8080/"
        },
        "id": "UMvStKB7LJxF",
        "outputId": "c6b69879-6c1f-4ad6-bd12-038b4081eb88"
      },
      "execution_count": 19,
      "outputs": [
        {
          "output_type": "execute_result",
          "data": {
            "text/plain": [
              "array([0.471492  , 0.46029473, 0.76323197, 0.04821755, 0.02970084,\n",
              "       0.73243034, 0.57852661, 0.6058253 , 0.61557482, 0.7588365 ])"
            ]
          },
          "metadata": {},
          "execution_count": 19
        }
      ]
    },
    {
      "cell_type": "code",
      "source": [
        "vector.T.shape"
      ],
      "metadata": {
        "colab": {
          "base_uri": "https://localhost:8080/"
        },
        "id": "FflJsrZqLZZ4",
        "outputId": "e3709e09-818d-4b06-c681-701376468194"
      },
      "execution_count": 20,
      "outputs": [
        {
          "output_type": "execute_result",
          "data": {
            "text/plain": [
              "(10,)"
            ]
          },
          "metadata": {},
          "execution_count": 20
        }
      ]
    },
    {
      "cell_type": "markdown",
      "source": [
        "різниці немає тому що `vector` одновимірний масив"
      ],
      "metadata": {
        "id": "dprIC-Q7Lk3t"
      }
    },
    {
      "cell_type": "code",
      "source": [
        "column_vector = np.expand_dims(vector, axis=1)\n",
        "column_vector"
      ],
      "metadata": {
        "colab": {
          "base_uri": "https://localhost:8080/"
        },
        "id": "AYQCbRWIL7KS",
        "outputId": "84fd7d05-fed8-49bb-973b-22ada6f7a5eb"
      },
      "execution_count": 21,
      "outputs": [
        {
          "output_type": "execute_result",
          "data": {
            "text/plain": [
              "array([[0.471492  ],\n",
              "       [0.46029473],\n",
              "       [0.76323197],\n",
              "       [0.04821755],\n",
              "       [0.02970084],\n",
              "       [0.73243034],\n",
              "       [0.57852661],\n",
              "       [0.6058253 ],\n",
              "       [0.61557482],\n",
              "       [0.7588365 ]])"
            ]
          },
          "metadata": {},
          "execution_count": 21
        }
      ]
    },
    {
      "cell_type": "code",
      "source": [
        "column_vector.shape"
      ],
      "metadata": {
        "colab": {
          "base_uri": "https://localhost:8080/"
        },
        "id": "CrEKaKNOMG9v",
        "outputId": "229ce2e6-8a9e-4e7a-97ad-902cd2e47bee"
      },
      "execution_count": 22,
      "outputs": [
        {
          "output_type": "execute_result",
          "data": {
            "text/plain": [
              "(10, 1)"
            ]
          },
          "metadata": {},
          "execution_count": 22
        }
      ]
    },
    {
      "cell_type": "markdown",
      "source": [
        "`column_vector` став двовимірним масивом"
      ],
      "metadata": {
        "id": "m8IMpPBzMhma"
      }
    },
    {
      "cell_type": "code",
      "source": [
        "column_vector.T"
      ],
      "metadata": {
        "colab": {
          "base_uri": "https://localhost:8080/"
        },
        "id": "9S1j5-MYMRSJ",
        "outputId": "888de1a9-7db7-4031-887d-6fc6f6a2dba2"
      },
      "execution_count": 23,
      "outputs": [
        {
          "output_type": "execute_result",
          "data": {
            "text/plain": [
              "array([[0.471492  , 0.46029473, 0.76323197, 0.04821755, 0.02970084,\n",
              "        0.73243034, 0.57852661, 0.6058253 , 0.61557482, 0.7588365 ]])"
            ]
          },
          "metadata": {},
          "execution_count": 23
        }
      ]
    },
    {
      "cell_type": "code",
      "source": [
        "column_vector.T.shape"
      ],
      "metadata": {
        "colab": {
          "base_uri": "https://localhost:8080/"
        },
        "id": "2v2q4cIqMTFP",
        "outputId": "45cc4ec0-2e60-4a3b-ad4e-6854f100d26d"
      },
      "execution_count": 24,
      "outputs": [
        {
          "output_type": "execute_result",
          "data": {
            "text/plain": [
              "(1, 10)"
            ]
          },
          "metadata": {},
          "execution_count": 24
        }
      ]
    }
  ]
}