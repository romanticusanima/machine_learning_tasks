{
  "nbformat": 4,
  "nbformat_minor": 0,
  "metadata": {
    "colab": {
      "provenance": []
    },
    "kernelspec": {
      "name": "python3",
      "display_name": "Python 3"
    },
    "language_info": {
      "name": "python"
    }
  },
  "cells": [
    {
      "cell_type": "markdown",
      "source": [
        "В цьому домашньому завданні ми реалізуємо логістичну регресію на `numpy`.\n",
        "Ці завдання допоможуть вам ґрунтовно засвоїти основні концепції логістичної регресії та реалізувати їх на практиці 🔥\n",
        "\n",
        "#### Завдання 1: Реалізація функції сигмоїди\n",
        "1. З використанням `numpy` напишіть функцію `sigmoid(z)` для обчислення значення сигмоїди згідно з формулою:\n",
        "   $$\n",
        "   \\sigma(z) = \\frac{1}{1 + e^{-z}}\n",
        "   $$\n",
        "2. Використовуючи цю функцію, обчисліть значення сигмоїди для наступних даних: $ z = [-2, -1, 0, 1, 2] $. Виведіть результат обчислень.\n"
      ],
      "metadata": {
        "id": "KxRmdyv5CIZe"
      }
    },
    {
      "cell_type": "code",
      "source": [
        "import numpy as np\n",
        "\n",
        "np.set_printoptions(legacy='1.25')"
      ],
      "metadata": {
        "id": "v9ilfXulL2wP"
      },
      "execution_count": 1,
      "outputs": []
    },
    {
      "cell_type": "code",
      "source": [
        "def sigmoid(z):\n",
        "  return 1 / (1 + np.exp(-z))"
      ],
      "metadata": {
        "id": "d3ttWzj7cOPG"
      },
      "execution_count": 2,
      "outputs": []
    },
    {
      "cell_type": "code",
      "source": [
        "z = np.array([-2, -1, 0, 1, 2])\n",
        "\n",
        "print(sigmoid(z))"
      ],
      "metadata": {
        "colab": {
          "base_uri": "https://localhost:8080/"
        },
        "id": "VcVQfZ2Rc2X3",
        "outputId": "64ff3d87-f5b7-462e-ddda-663f14ea5902"
      },
      "execution_count": 3,
      "outputs": [
        {
          "output_type": "stream",
          "name": "stdout",
          "text": [
            "[0.11920292 0.26894142 0.5        0.73105858 0.88079708]\n"
          ]
        }
      ]
    },
    {
      "cell_type": "markdown",
      "source": [
        "\n",
        "\n",
        "#### Завдання 2: Реалізація функції гіпотези для логістичної регресії\n",
        "1. Напишіть функцію `hypothesis(theta, X)`, яка обчислює гіпотезу для логістичної регресії, використовуючи функцію сигмоїди. Формула гіпотези:\n",
        "   $$\n",
        "   h_\\theta(x) = \\sigma(\\theta^T x) = \\frac{1}{1 + e^{-\\theta^T x}}\n",
        "   $$\n",
        "2. Використайте функцію `hypothesis` для обчислення значень гіпотези для наступних даних:\n",
        "   \n",
        "   $\\theta = [0.5, -0.5]$\n",
        "   \n",
        "   $X = \\begin{bmatrix} 1 & 2 \\\\ 1 & -1 \\\\ 1 & 0 \\\\ 1 & 1 \\end{bmatrix}$\n",
        "\n",
        "  Виведіть результат обчислень.\n"
      ],
      "metadata": {
        "id": "LVd_jCGNCR1F"
      }
    },
    {
      "cell_type": "code",
      "source": [
        "def hypothesis(theta, X):\n",
        "  return sigmoid(np.dot(X, theta))"
      ],
      "metadata": {
        "id": "dKDHv-YtL3TA"
      },
      "execution_count": 4,
      "outputs": []
    },
    {
      "cell_type": "code",
      "source": [
        "theta = np.array([0.5, -0.5])\n",
        "X = np.array([\n",
        "    [1,  2],\n",
        "    [1, -1],\n",
        "    [1,  0],\n",
        "    [1,  1]\n",
        "])\n",
        "\n",
        "print(hypothesis(theta, X))"
      ],
      "metadata": {
        "colab": {
          "base_uri": "https://localhost:8080/"
        },
        "id": "xDLqmC-gfQU3",
        "outputId": "62e98ab4-d880-477b-ecc2-52e3993c6585"
      },
      "execution_count": 5,
      "outputs": [
        {
          "output_type": "stream",
          "name": "stdout",
          "text": [
            "[0.37754067 0.73105858 0.62245933 0.5       ]\n"
          ]
        }
      ]
    },
    {
      "cell_type": "markdown",
      "source": [
        "#### Завдання 3: Реалізація функції для підрахунку градієнтів фукнції втрат\n",
        "1. Напишіть функцію `compute_gradient(theta, X, y)`, яка обчислює градієнти функції втрат для логістичної регресії. Формула для обчислення градієнта:\n",
        "   $$\n",
        "   \\frac{\\partial L(\\theta)}{\\partial \\theta_j} = \\frac{1}{m} \\sum_{i=1}^{m} \\left[ (h_\\theta(x^{(i)}) - y^{(i)}) x_j^{(i)} \\right]\n",
        "   $$\n",
        "2. Використайте функцію `compute_gradient` для обчислення градієнтів для наступних даних:\n",
        "\n",
        "  $\\theta = [0.5, -0.5]$\n",
        "\n",
        "  $X = \\begin{bmatrix} 1 & 2 \\\\ 1 & -1 \\\\ 1 & 0 \\\\ 1 & 1 \\end{bmatrix}$\n",
        "\n",
        "  $y = [1, 0, 1, 0]$\n",
        "\n",
        "  Виведіть результат обчислень."
      ],
      "metadata": {
        "id": "MWASH4Z4ClTo"
      }
    },
    {
      "cell_type": "code",
      "source": [
        "def compute_gradient(theta, X, y):\n",
        "  # (1 / X.shape[0]) * np.dot(X.T, hypothesis(theta, X) - y)\n",
        "  m = X.shape[0]\n",
        "  h = hypothesis(theta, X)\n",
        "  error = h - y\n",
        "  gradient = (1 / m) * np.dot(X.T, error)\n",
        "  return gradient"
      ],
      "metadata": {
        "id": "0DM4xqZCL32i"
      },
      "execution_count": 6,
      "outputs": []
    },
    {
      "cell_type": "code",
      "source": [
        "theta = np.array([0.5, -0.5])\n",
        "X = np.array([\n",
        "    [1,  2],\n",
        "    [1, -1],\n",
        "    [1,  0],\n",
        "    [1,  1]\n",
        "])\n",
        "y = np.array([1, 0, 1, 0])\n",
        "\n",
        "print(compute_gradient(theta, X, y))"
      ],
      "metadata": {
        "colab": {
          "base_uri": "https://localhost:8080/"
        },
        "id": "xO-cuVHouKWn",
        "outputId": "7323f876-ec4b-495d-80f5-b45d1edb0193"
      },
      "execution_count": 7,
      "outputs": [
        {
          "output_type": "stream",
          "name": "stdout",
          "text": [
            "[ 0.05776464 -0.36899431]\n"
          ]
        }
      ]
    },
    {
      "cell_type": "markdown",
      "source": [
        "\n",
        "#### Завдання 4: Реалізація повного батч градієнтного спуску\n",
        "\n",
        "**Задача:**\n",
        "1. Напишіть функцію `full_batch_gradient_descent(X, y, lr=0.1, epochs=100)`, яка реалізує алгоритм Full градієнтного спуску для логістичної регресії. Використовуйте такі формули:\n",
        "   - Гіпотеза: $ h_\\theta(x) = \\sigma(\\theta^T x) $\n",
        "   - Оновлення параметрів: $ \\theta_j := \\theta_j - \\alpha \\frac{\\partial L(\\theta)}{\\partial \\theta_j} $\n",
        "2. Використайте функцію `full_batch_gradient_descent` для обчислення параметрів моделі на наступних даних:\n",
        "\n",
        "  $X = \\begin{bmatrix} 1 & 2 \\\\ 1 & -1 \\\\ 1 & 0 \\\\ 1 & 1 \\end{bmatrix}$\n",
        "\n",
        "  $y = [1, 0, 1, 0]$\n",
        "\n",
        "  Увага! Матриця $X$ вже має стовпець одиниць і передбачається, що це. - стовпець для intercept - параметра зсуву.\n",
        "\n",
        "  Виведіть результат обчислень.\n"
      ],
      "metadata": {
        "id": "nOtJEtdnC1K9"
      }
    },
    {
      "cell_type": "code",
      "source": [
        "def full_batch_gradient_descent(X, y, lr=0.1, epochs=100):\n",
        "  theta = np.zeros(X.shape[1])\n",
        "  for _ in range(epochs):\n",
        "    gradient = compute_gradient(theta, X, y)\n",
        "    theta -= lr * gradient\n",
        "  return theta"
      ],
      "metadata": {
        "id": "fHtUOTxXL4Yy"
      },
      "execution_count": 8,
      "outputs": []
    },
    {
      "cell_type": "code",
      "source": [
        "X = np.array([\n",
        "    [1,  2],\n",
        "    [1, -1],\n",
        "    [1,  0],\n",
        "    [1,  1]\n",
        "])\n",
        "y = np.array([1, 0, 1, 0])"
      ],
      "metadata": {
        "id": "1bM5_ZRfPa2T"
      },
      "execution_count": 9,
      "outputs": []
    },
    {
      "cell_type": "code",
      "source": [
        "calculated_theta = full_batch_gradient_descent(X, y)\n",
        "calculated_theta"
      ],
      "metadata": {
        "colab": {
          "base_uri": "https://localhost:8080/"
        },
        "id": "DXx9eXv7WtcN",
        "outputId": "6871dbee-04d4-4580-da35-fbe45c819668"
      },
      "execution_count": 10,
      "outputs": [
        {
          "output_type": "execute_result",
          "data": {
            "text/plain": [
              "array([-0.2893693 ,  0.77655125])"
            ]
          },
          "metadata": {},
          "execution_count": 10
        }
      ]
    },
    {
      "cell_type": "markdown",
      "source": [
        "#### Завдання 5. Обчислення точності моделі\n",
        "\n",
        "1. Напишіть функцію `predict_proba(theta, X)`, яка використовує знайдені параметри $\\theta$ для обчислення ймовірностей належності поточного прикладу з даних до класу $y=1$ на основі значень $\\sigma(\\theta^T x)$.\n",
        "\n",
        "2. Напишіть функцію `predict(theta, X, threshold=0.5)`, яка обчислює клас з передбаченої імовірності належності екземпляра до класу 1 з порогом 0.5. Тобто якщо ймовірність менше 0.5, то передбачаємо клас 0, інакше клас 1.\n",
        "\n",
        "3. Напишіть функцію `accuracy(y_true, y_pred)`, яка обчислює точність моделі, визначивши частку правильно передбачених класів.\n",
        "\n",
        "  Формула метрики Accuracy:\n",
        "  $$\n",
        "  \\text{Accuracy} = \\frac{\\sum_{i=1}^{m} I(\\hat{{y}^{(i)}} = y^{(i)})}{m}\n",
        "  $$\n",
        "\n",
        "  де $\\hat{{y}^{(i)}}$ - передбачене значення класу, $I$ - індикаторна функція (яка дорівнює 1, якщо умова виконується, і 0 - якщо ні), $m$ - кількість прикладів.\n",
        "\n",
        "4. Обчисліть з використанням даних в завданні 4 $X$, $y$ та обчислених коефіцієнтах $\\theta$ та виведіть на екран:\n",
        "  - передбачені моделлю імовірності належності кожного з екземплярів в матриці `X` до класу 1\n",
        "  - класи кожного екземпляра з матриці `X`\n",
        "  - точність моделі."
      ],
      "metadata": {
        "id": "E4iZV55cE5f3"
      }
    },
    {
      "cell_type": "code",
      "source": [
        "def predict_proba(theta, X):\n",
        "  return hypothesis(theta, X)"
      ],
      "metadata": {
        "id": "85ZZfPtjrsai"
      },
      "execution_count": 11,
      "outputs": []
    },
    {
      "cell_type": "code",
      "source": [
        "def predict(theta, X, threshold=0.5):\n",
        "  probs = predict_proba(theta, X)\n",
        "  return (probs >= threshold).astype(int)"
      ],
      "metadata": {
        "id": "fRpMbuY2T-iK"
      },
      "execution_count": 12,
      "outputs": []
    },
    {
      "cell_type": "code",
      "source": [
        "def accuracy(y_true, y_pred):\n",
        "  return np.mean(y_true == y_pred)"
      ],
      "metadata": {
        "id": "nVASrxStUvnY"
      },
      "execution_count": 13,
      "outputs": []
    },
    {
      "cell_type": "code",
      "source": [
        "probs = predict_proba(calculated_theta, X)\n",
        "classes = predict(calculated_theta, X)\n",
        "acc = accuracy(y, classes)\n",
        "\n",
        "print(probs)\n",
        "print(classes)\n",
        "print(acc)"
      ],
      "metadata": {
        "colab": {
          "base_uri": "https://localhost:8080/"
        },
        "id": "AUtt9T0-WdgM",
        "outputId": "769a08b8-caa6-4934-98c1-5f5b0eedfa92"
      },
      "execution_count": 14,
      "outputs": [
        {
          "output_type": "stream",
          "name": "stdout",
          "text": [
            "[0.77966809 0.25617965 0.42815828 0.61944235]\n",
            "[1 0 0 1]\n",
            "0.5\n"
          ]
        }
      ]
    }
  ]
}